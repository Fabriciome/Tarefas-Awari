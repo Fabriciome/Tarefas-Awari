{
  "nbformat": 4,
  "nbformat_minor": 0,
  "metadata": {
    "colab": {
      "name": "Untitled0.ipynb",
      "provenance": [],
      "authorship_tag": "ABX9TyOhsq79l8cwew4U6iV9yZHl",
      "include_colab_link": true
    },
    "kernelspec": {
      "name": "python3",
      "display_name": "Python 3"
    },
    "language_info": {
      "name": "python"
    }
  },
  "cells": [
    {
      "cell_type": "markdown",
      "metadata": {
        "id": "view-in-github",
        "colab_type": "text"
      },
      "source": [
        "<a href=\"https://colab.research.google.com/github/Fabriciome/Tarefas-Awari/blob/main/_notebooks.coletando_dados_mercado_livre.ipynb\" target=\"_parent\"><img src=\"https://colab.research.google.com/assets/colab-badge.svg\" alt=\"Open In Colab\"/></a>"
      ]
    },
    {
      "cell_type": "code",
      "metadata": {
        "id": "3cgMhJloOHvk"
      },
      "source": [
        "import requests"
      ],
      "execution_count": 2,
      "outputs": []
    },
    {
      "cell_type": "code",
      "metadata": {
        "id": "DF64zexFO3Il"
      },
      "source": [
        "url = 'https://imoveis.mercadolivre.com.br/apartamentos/aluguel/sao-paulo/'"
      ],
      "execution_count": 3,
      "outputs": []
    },
    {
      "cell_type": "markdown",
      "metadata": {
        "id": "pcLte8-iV0pb"
      },
      "source": [
        "pega o conteúdo"
      ]
    },
    {
      "cell_type": "code",
      "metadata": {
        "id": "SVKM7Oc9O-fe"
      },
      "source": [
        "conteudo = requests.get(url).content"
      ],
      "execution_count": 4,
      "outputs": []
    },
    {
      "cell_type": "code",
      "metadata": {
        "id": "81hk9I-CRaUa"
      },
      "source": [
        "from bs4 import BeautifulSoup"
      ],
      "execution_count": 5,
      "outputs": []
    },
    {
      "cell_type": "markdown",
      "metadata": {
        "id": "mdwtBSPvWFo3"
      },
      "source": [
        "Transforma em sopa"
      ]
    },
    {
      "cell_type": "code",
      "metadata": {
        "id": "gsABvOAZTPjG"
      },
      "source": [
        "sopa = BeautifulSoup(conteudo)"
      ],
      "execution_count": 7,
      "outputs": []
    },
    {
      "cell_type": "code",
      "metadata": {
        "colab": {
          "base_uri": "https://localhost:8080/",
          "height": 35
        },
        "id": "SBJNBrzNTeF-",
        "outputId": "e7bcf0d9-f9cf-49af-8128-7197876022d3"
      },
      "source": [
        "sopa.find('span', {'class':'price-tag-fraction'}).text"
      ],
      "execution_count": 15,
      "outputs": [
        {
          "output_type": "execute_result",
          "data": {
            "application/vnd.google.colaboratory.intrinsic+json": {
              "type": "string"
            },
            "text/plain": [
              "'1.000'"
            ]
          },
          "metadata": {
            "tags": []
          },
          "execution_count": 15
        }
      ]
    },
    {
      "cell_type": "code",
      "metadata": {
        "colab": {
          "base_uri": "https://localhost:8080/"
        },
        "id": "NypKU_l5ruOx",
        "outputId": "6d2553a8-1709-4ece-eb91-107620df0bc4"
      },
      "source": [
        "type(sopa.find('span', {'class':'price-tag-fraction'}).text)"
      ],
      "execution_count": 16,
      "outputs": [
        {
          "output_type": "execute_result",
          "data": {
            "text/plain": [
              "str"
            ]
          },
          "metadata": {
            "tags": []
          },
          "execution_count": 16
        }
      ]
    },
    {
      "cell_type": "code",
      "metadata": {
        "id": "mL-pY-Y5tN9m"
      },
      "source": [
        "result_set_precos = sopa.find_all('span', {'class':'price-tag-fraction'})"
      ],
      "execution_count": 22,
      "outputs": []
    },
    {
      "cell_type": "code",
      "metadata": {
        "id": "fzaUWqmAuX1j"
      },
      "source": [
        "lista_precos = []\n",
        "for elemento in result_set_precos:\n",
        "  lista_precos.append(elemento.text)\n"
      ],
      "execution_count": 26,
      "outputs": []
    },
    {
      "cell_type": "code",
      "metadata": {
        "colab": {
          "base_uri": "https://localhost:8080/"
        },
        "id": "Izbbiez9vnS3",
        "outputId": "8be3f3fc-3046-4b88-c4e8-6a2224f816e0"
      },
      "source": [
        "len (lista_precos)"
      ],
      "execution_count": 27,
      "outputs": [
        {
          "output_type": "execute_result",
          "data": {
            "text/plain": [
              "48"
            ]
          },
          "metadata": {
            "tags": []
          },
          "execution_count": 27
        }
      ]
    },
    {
      "cell_type": "code",
      "metadata": {
        "colab": {
          "base_uri": "https://localhost:8080/"
        },
        "id": "rlkKGmWTw133",
        "outputId": "02829bc4-5e81-4d06-9087-0361a5d8e277"
      },
      "source": [
        "lista_precos [:5]"
      ],
      "execution_count": 30,
      "outputs": [
        {
          "output_type": "execute_result",
          "data": {
            "text/plain": [
              "['1.000', '1.600', '900', '850', '684']"
            ]
          },
          "metadata": {
            "tags": []
          },
          "execution_count": 30
        }
      ]
    },
    {
      "cell_type": "markdown",
      "metadata": {
        "id": "FbdfsuQIS3Dd"
      },
      "source": [
        "Exercício:\n",
        "Coletar a área e os quartos (dica: pegar da tag ul e separar depois)\n",
        "Se quiser, coletar enderecos\n",
        "Coletar zona (dica: coletar da url)\n",
        "Se der, coletar para mais de uma página do site (dica: usar a url e lembrar de dar um sleep(2) entre as requisições"
      ]
    }
  ]
}