{
  "nbformat": 4,
  "nbformat_minor": 0,
  "metadata": {
    "colab": {
      "name": "coletandoip.ipynb",
      "provenance": [],
      "authorship_tag": "ABX9TyNsYbb21S4wWkeudCwazHR9",
      "include_colab_link": true
    },
    "kernelspec": {
      "name": "python3",
      "display_name": "Python 3"
    },
    "language_info": {
      "name": "python"
    }
  },
  "cells": [
    {
      "cell_type": "markdown",
      "metadata": {
        "id": "view-in-github",
        "colab_type": "text"
      },
      "source": [
        "<a href=\"https://colab.research.google.com/github/Fabriciome/Tarefas-Awari/blob/main/coletandoip.ipynb\" target=\"_parent\"><img src=\"https://colab.research.google.com/assets/colab-badge.svg\" alt=\"Open In Colab\"/></a>"
      ]
    },
    {
      "cell_type": "code",
      "metadata": {
        "id": "4oUB_wi7areS"
      },
      "source": [
        "import requests "
      ],
      "execution_count": 18,
      "outputs": []
    },
    {
      "cell_type": "code",
      "metadata": {
        "id": "0Vip6w4NayPJ"
      },
      "source": [
        "url = 'https://api.ipify.org/?format=json'"
      ],
      "execution_count": 19,
      "outputs": []
    },
    {
      "cell_type": "code",
      "metadata": {
        "id": "R0-8D7JVbHgC"
      },
      "source": [
        "conteudo = requests.get(url).content"
      ],
      "execution_count": 20,
      "outputs": []
    },
    {
      "cell_type": "code",
      "metadata": {
        "id": "K_VehzLicygz"
      },
      "source": [
        "import json"
      ],
      "execution_count": 21,
      "outputs": []
    },
    {
      "cell_type": "code",
      "metadata": {
        "id": "dGTbqvYfdNkF"
      },
      "source": [
        "ipify_dict = json.loads(conteudo)"
      ],
      "execution_count": 22,
      "outputs": []
    },
    {
      "cell_type": "code",
      "metadata": {
        "colab": {
          "base_uri": "https://localhost:8080/"
        },
        "id": "4uSk_41Xddha",
        "outputId": "92cc5ca3-f136-4bfa-89fc-ee0dd2665fa7"
      },
      "source": [
        "ipify_dict"
      ],
      "execution_count": 11,
      "outputs": [
        {
          "output_type": "execute_result",
          "data": {
            "text/plain": [
              "{'ip': '35.245.139.147'}"
            ]
          },
          "metadata": {
            "tags": []
          },
          "execution_count": 11
        }
      ]
    },
    {
      "cell_type": "code",
      "metadata": {
        "id": "9PSoGhPGgoA_"
      },
      "source": [
        "def meu_ip():\n",
        "  url = 'https://api.ipify.org/?format=json'\n",
        "  conteudo = requests.get(url).content\n",
        "  ipify_dict = json.loads(conteudo)\n",
        "  return ipify_dict['ip']"
      ],
      "execution_count": 24,
      "outputs": []
    },
    {
      "cell_type": "code",
      "metadata": {
        "id": "Uv670mK2h63v"
      },
      "source": [
        "ip = meu_ip()"
      ],
      "execution_count": 25,
      "outputs": []
    },
    {
      "cell_type": "code",
      "metadata": {
        "colab": {
          "base_uri": "https://localhost:8080/",
          "height": 35
        },
        "id": "FIzPHV4SiZVB",
        "outputId": "caf9935f-e990-48ea-dc53-4c1844905bd7"
      },
      "source": [
        "ip"
      ],
      "execution_count": 26,
      "outputs": [
        {
          "output_type": "execute_result",
          "data": {
            "application/vnd.google.colaboratory.intrinsic+json": {
              "type": "string"
            },
            "text/plain": [
              "'35.245.139.147'"
            ]
          },
          "metadata": {
            "tags": []
          },
          "execution_count": 26
        }
      ]
    },
    {
      "cell_type": "code",
      "metadata": {
        "id": "5p9udqo2nHIq"
      },
      "source": [
        ""
      ],
      "execution_count": null,
      "outputs": []
    }
  ]
}