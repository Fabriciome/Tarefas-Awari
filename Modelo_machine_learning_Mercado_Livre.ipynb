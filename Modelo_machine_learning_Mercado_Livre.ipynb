{
  "nbformat": 4,
  "nbformat_minor": 0,
  "metadata": {
    "colab": {
      "name": "Modelo_machine_learning_Mercado_Livre.ipynb",
      "provenance": [],
      "collapsed_sections": [
        "owMwndsSVhGu",
        "oPyat1siWkzt",
        "98aJT7f3V-Ww",
        "9E9ZbdE2WG2S",
        "WpHIA_8BWyL0",
        "5NFzxvFOJsaE",
        "jvEeXS_GD23L",
        "SscZeK99W6--",
        "fUssX7kJXTMc",
        "v5iKEkaysz3D",
        "jVAW_hrCDhPc",
        "QN6Db0xzmEY_",
        "BmO6961TFckK",
        "mVCQygQzFGjr",
        "H1rBfjkPyJnA"
      ],
      "include_colab_link": true
    },
    "kernelspec": {
      "name": "python3",
      "display_name": "Python 3"
    },
    "language_info": {
      "name": "python"
    }
  },
  "cells": [
    {
      "cell_type": "markdown",
      "metadata": {
        "id": "view-in-github",
        "colab_type": "text"
      },
      "source": [
        "<a href=\"https://colab.research.google.com/github/Fabriciome/Tarefas-Awari/blob/main/Modelo_machine_learning_Mercado_Livre.ipynb\" target=\"_parent\"><img src=\"https://colab.research.google.com/assets/colab-badge.svg\" alt=\"Open In Colab\"/></a>"
      ]
    },
    {
      "cell_type": "code",
      "metadata": {
        "id": "rCZBy_vlI4AW"
      },
      "source": [
        "#Importação de pacotes e módulos\n",
        "import pandas as pd\n",
        "import numpy as np\n",
        "from sklearn.model_selection import train_test_split\n",
        "from sklearn.linear_model import LinearRegression\n",
        "from sklearn.neighbors import KNeighborsRegressor\n",
        "from sklearn.tree import DecisionTreeRegressor, plot_tree\n",
        "from sklearn.metrics import r2_score, mean_squared_error, mean_absolute_error\n",
        "import matplotlib.pyplot as plt\n",
        "from sklearn.ensemble import RandomForestRegressor\n",
        "from sklearn.model_selection import GridSearchCV, cross_val_score\n",
        "from sklearn.dummy import DummyRegressor"
      ],
      "execution_count": 1,
      "outputs": []
    },
    {
      "cell_type": "code",
      "metadata": {
        "id": "EIhILW9rWjx6"
      },
      "source": [
        "SEED = 42 # semente aleatória"
      ],
      "execution_count": 2,
      "outputs": []
    },
    {
      "cell_type": "code",
      "metadata": {
        "id": "_ELOWycFdgKs"
      },
      "source": [
        "df = pd.read_csv('https://raw.githubusercontent.com/Fabriciome/Tarefas-Awari/main/dados_tratados_mercado_livre.csv')"
      ],
      "execution_count": 3,
      "outputs": []
    },
    {
      "cell_type": "code",
      "metadata": {
        "colab": {
          "base_uri": "https://localhost:8080/",
          "height": 204
        },
        "id": "3MMIXNRedqW6",
        "outputId": "682ae97d-a18c-47fd-db77-8760f3a43b7d"
      },
      "source": [
        "df.head()"
      ],
      "execution_count": 4,
      "outputs": [
        {
          "output_type": "execute_result",
          "data": {
            "text/html": [
              "<div>\n",
              "<style scoped>\n",
              "    .dataframe tbody tr th:only-of-type {\n",
              "        vertical-align: middle;\n",
              "    }\n",
              "\n",
              "    .dataframe tbody tr th {\n",
              "        vertical-align: top;\n",
              "    }\n",
              "\n",
              "    .dataframe thead th {\n",
              "        text-align: right;\n",
              "    }\n",
              "</style>\n",
              "<table border=\"1\" class=\"dataframe\">\n",
              "  <thead>\n",
              "    <tr style=\"text-align: right;\">\n",
              "      <th></th>\n",
              "      <th>aluguel</th>\n",
              "      <th>zona</th>\n",
              "      <th>area</th>\n",
              "      <th>quarto</th>\n",
              "    </tr>\n",
              "  </thead>\n",
              "  <tbody>\n",
              "    <tr>\n",
              "      <th>0</th>\n",
              "      <td>2000.0</td>\n",
              "      <td>sul</td>\n",
              "      <td>51.0</td>\n",
              "      <td>2.0</td>\n",
              "    </tr>\n",
              "    <tr>\n",
              "      <th>1</th>\n",
              "      <td>2700.0</td>\n",
              "      <td>sul</td>\n",
              "      <td>72.0</td>\n",
              "      <td>3.0</td>\n",
              "    </tr>\n",
              "    <tr>\n",
              "      <th>2</th>\n",
              "      <td>3200.0</td>\n",
              "      <td>sul</td>\n",
              "      <td>59.0</td>\n",
              "      <td>1.0</td>\n",
              "    </tr>\n",
              "    <tr>\n",
              "      <th>3</th>\n",
              "      <td>1300.0</td>\n",
              "      <td>sul</td>\n",
              "      <td>70.0</td>\n",
              "      <td>2.0</td>\n",
              "    </tr>\n",
              "    <tr>\n",
              "      <th>4</th>\n",
              "      <td>1800.0</td>\n",
              "      <td>sul</td>\n",
              "      <td>90.0</td>\n",
              "      <td>2.0</td>\n",
              "    </tr>\n",
              "  </tbody>\n",
              "</table>\n",
              "</div>"
            ],
            "text/plain": [
              "   aluguel zona  area  quarto\n",
              "0   2000.0  sul  51.0     2.0\n",
              "1   2700.0  sul  72.0     3.0\n",
              "2   3200.0  sul  59.0     1.0\n",
              "3   1300.0  sul  70.0     2.0\n",
              "4   1800.0  sul  90.0     2.0"
            ]
          },
          "metadata": {
            "tags": []
          },
          "execution_count": 4
        }
      ]
    },
    {
      "cell_type": "code",
      "metadata": {
        "id": "5aJAOg5pd3MR"
      },
      "source": [
        "#dividindo os dados em X e y\n",
        "X = df.drop('aluguel', axis=1)\n",
        "y = df['aluguel']"
      ],
      "execution_count": 5,
      "outputs": []
    },
    {
      "cell_type": "code",
      "metadata": {
        "colab": {
          "base_uri": "https://localhost:8080/",
          "height": 204
        },
        "id": "q4bWfy_Pd_vA",
        "outputId": "cd07e8dd-6461-488b-dbc1-b6b90f982ad8"
      },
      "source": [
        "X.head()"
      ],
      "execution_count": 6,
      "outputs": [
        {
          "output_type": "execute_result",
          "data": {
            "text/html": [
              "<div>\n",
              "<style scoped>\n",
              "    .dataframe tbody tr th:only-of-type {\n",
              "        vertical-align: middle;\n",
              "    }\n",
              "\n",
              "    .dataframe tbody tr th {\n",
              "        vertical-align: top;\n",
              "    }\n",
              "\n",
              "    .dataframe thead th {\n",
              "        text-align: right;\n",
              "    }\n",
              "</style>\n",
              "<table border=\"1\" class=\"dataframe\">\n",
              "  <thead>\n",
              "    <tr style=\"text-align: right;\">\n",
              "      <th></th>\n",
              "      <th>zona</th>\n",
              "      <th>area</th>\n",
              "      <th>quarto</th>\n",
              "    </tr>\n",
              "  </thead>\n",
              "  <tbody>\n",
              "    <tr>\n",
              "      <th>0</th>\n",
              "      <td>sul</td>\n",
              "      <td>51.0</td>\n",
              "      <td>2.0</td>\n",
              "    </tr>\n",
              "    <tr>\n",
              "      <th>1</th>\n",
              "      <td>sul</td>\n",
              "      <td>72.0</td>\n",
              "      <td>3.0</td>\n",
              "    </tr>\n",
              "    <tr>\n",
              "      <th>2</th>\n",
              "      <td>sul</td>\n",
              "      <td>59.0</td>\n",
              "      <td>1.0</td>\n",
              "    </tr>\n",
              "    <tr>\n",
              "      <th>3</th>\n",
              "      <td>sul</td>\n",
              "      <td>70.0</td>\n",
              "      <td>2.0</td>\n",
              "    </tr>\n",
              "    <tr>\n",
              "      <th>4</th>\n",
              "      <td>sul</td>\n",
              "      <td>90.0</td>\n",
              "      <td>2.0</td>\n",
              "    </tr>\n",
              "  </tbody>\n",
              "</table>\n",
              "</div>"
            ],
            "text/plain": [
              "  zona  area  quarto\n",
              "0  sul  51.0     2.0\n",
              "1  sul  72.0     3.0\n",
              "2  sul  59.0     1.0\n",
              "3  sul  70.0     2.0\n",
              "4  sul  90.0     2.0"
            ]
          },
          "metadata": {
            "tags": []
          },
          "execution_count": 6
        }
      ]
    },
    {
      "cell_type": "code",
      "metadata": {
        "colab": {
          "base_uri": "https://localhost:8080/"
        },
        "id": "gNul8MrLcfqr",
        "outputId": "19b8fbde-30d3-46bc-b76c-e98c0a73adf2"
      },
      "source": [
        "y.head()"
      ],
      "execution_count": 7,
      "outputs": [
        {
          "output_type": "execute_result",
          "data": {
            "text/plain": [
              "0    2000.0\n",
              "1    2700.0\n",
              "2    3200.0\n",
              "3    1300.0\n",
              "4    1800.0\n",
              "Name: aluguel, dtype: float64"
            ]
          },
          "metadata": {
            "tags": []
          },
          "execution_count": 7
        }
      ]
    },
    {
      "cell_type": "code",
      "metadata": {
        "colab": {
          "base_uri": "https://localhost:8080/"
        },
        "id": "f30uWa8_lI6W",
        "outputId": "9c1df0c3-1eff-40a3-db8c-9acffaecd5cc"
      },
      "source": [
        "#Fazendo o one hot encoding das variáveis categóricas de Zona\n",
        "X['zona'].unique()"
      ],
      "execution_count": 8,
      "outputs": [
        {
          "output_type": "execute_result",
          "data": {
            "text/plain": [
              "array(['sul', 'norte', 'leste', 'oeste'], dtype=object)"
            ]
          },
          "metadata": {
            "tags": []
          },
          "execution_count": 8
        }
      ]
    },
    {
      "cell_type": "code",
      "metadata": {
        "id": "QsSQquHPntWb"
      },
      "source": [
        "X = pd.get_dummies(X)"
      ],
      "execution_count": 9,
      "outputs": []
    },
    {
      "cell_type": "code",
      "metadata": {
        "id": "65AyIa6ghcg6"
      },
      "source": [
        "#Dividindo os dados em treino e teste\n",
        "X_treino, X_teste, y_treino, y_teste = train_test_split(X, y, \n",
        "                                                        test_size=0.2, \n",
        "                                                        train_size=0.8, \n",
        "                                                        random_state=SEED)"
      ],
      "execution_count": 10,
      "outputs": []
    },
    {
      "cell_type": "markdown",
      "metadata": {
        "id": "5NFzxvFOJsaE"
      },
      "source": [
        "# Fazendo a transformação para log + 1 dos dados de treino"
      ]
    },
    {
      "cell_type": "code",
      "metadata": {
        "id": "qT9z3MVcJ08U"
      },
      "source": [
        "X_treino = np.log1p(X_treino)\n",
        "y_treino = np.log1p(y_treino)"
      ],
      "execution_count": 11,
      "outputs": []
    },
    {
      "cell_type": "markdown",
      "metadata": {
        "id": "jvEeXS_GD23L"
      },
      "source": [
        "# Usando um modelo de base (baseline)"
      ]
    },
    {
      "cell_type": "code",
      "metadata": {
        "id": "LjmPMV-SECMZ"
      },
      "source": [
        "baseline = DummyRegressor(strategy='mean')\n",
        "baseline.fit(X_treino, y_treino)\n",
        "y_pred_base = baseline.predict(np.log1p(X_teste))"
      ],
      "execution_count": 12,
      "outputs": []
    },
    {
      "cell_type": "code",
      "metadata": {
        "colab": {
          "base_uri": "https://localhost:8080/"
        },
        "id": "khzc3PyxEsKn",
        "outputId": "a7b0bd33-da95-49e2-b24b-d7be25d1c0e0"
      },
      "source": [
        "print('O R² do modelo de base que sempre prevê a média é:', baseline.score(np.log1p(X_teste), np.log1p(y_teste)))"
      ],
      "execution_count": 13,
      "outputs": [
        {
          "output_type": "stream",
          "text": [
            "O R² do modelo de base que sempre prevê a média é: -0.03211908827516674\n"
          ],
          "name": "stdout"
        }
      ]
    },
    {
      "cell_type": "markdown",
      "metadata": {
        "id": "SscZeK99W6--"
      },
      "source": [
        "# Aplicando um modelo de Regressão Linear"
      ]
    },
    {
      "cell_type": "code",
      "metadata": {
        "id": "dPyA2ZmzjM2l"
      },
      "source": [
        "reg = LinearRegression()\n",
        "reg.fit(X_treino, y_treino)\n",
        "y_pred = reg.predict(np.log1p(X_teste))"
      ],
      "execution_count": 14,
      "outputs": []
    },
    {
      "cell_type": "code",
      "metadata": {
        "colab": {
          "base_uri": "https://localhost:8080/"
        },
        "id": "qraB3qp8mfOy",
        "outputId": "80c79bc5-bff6-44af-81d3-a619495a45f1"
      },
      "source": [
        "reg.score(np.log1p(X_teste), np.log1p(y_teste)) "
      ],
      "execution_count": 18,
      "outputs": [
        {
          "output_type": "execute_result",
          "data": {
            "text/plain": [
              "0.5236190100056416"
            ]
          },
          "metadata": {
            "tags": []
          },
          "execution_count": 18
        }
      ]
    },
    {
      "cell_type": "code",
      "metadata": {
        "colab": {
          "base_uri": "https://localhost:8080/"
        },
        "id": "3U3Qs_FRn2fh",
        "outputId": "c0ed58ce-0faf-4acc-f66b-7022da277ef9"
      },
      "source": [
        "r2_score(np.log1p(y_teste), y_pred)"
      ],
      "execution_count": 21,
      "outputs": [
        {
          "output_type": "execute_result",
          "data": {
            "text/plain": [
              "0.5236190100056416"
            ]
          },
          "metadata": {
            "tags": []
          },
          "execution_count": 21
        }
      ]
    },
    {
      "cell_type": "markdown",
      "metadata": {
        "id": "v5iKEkaysz3D"
      },
      "source": [
        "# Aplicando um modelo de KNN (K vizinhos mais próximos)"
      ]
    },
    {
      "cell_type": "code",
      "metadata": {
        "id": "5024ntGVAs-z"
      },
      "source": [
        "knn = KNeighborsRegressor()"
      ],
      "execution_count": 25,
      "outputs": []
    },
    {
      "cell_type": "code",
      "metadata": {
        "colab": {
          "base_uri": "https://localhost:8080/"
        },
        "id": "j2C3gGttBQ4q",
        "outputId": "9002d7dc-e5bd-43bb-dba2-2dc1f4660dd5"
      },
      "source": [
        "knn # hiperparâmetros"
      ],
      "execution_count": 26,
      "outputs": [
        {
          "output_type": "execute_result",
          "data": {
            "text/plain": [
              "KNeighborsRegressor(algorithm='auto', leaf_size=30, metric='minkowski',\n",
              "                    metric_params=None, n_jobs=None, n_neighbors=5, p=2,\n",
              "                    weights='uniform')"
            ]
          },
          "metadata": {
            "tags": []
          },
          "execution_count": 26
        }
      ]
    },
    {
      "cell_type": "code",
      "metadata": {
        "colab": {
          "base_uri": "https://localhost:8080/"
        },
        "id": "SRXdy1v7BSL5",
        "outputId": "da273404-72c8-4f36-fd18-172d197c9113"
      },
      "source": [
        "knn.fit(X_treino, y_treino)"
      ],
      "execution_count": 27,
      "outputs": [
        {
          "output_type": "execute_result",
          "data": {
            "text/plain": [
              "KNeighborsRegressor(algorithm='auto', leaf_size=30, metric='minkowski',\n",
              "                    metric_params=None, n_jobs=None, n_neighbors=5, p=2,\n",
              "                    weights='uniform')"
            ]
          },
          "metadata": {
            "tags": []
          },
          "execution_count": 27
        }
      ]
    },
    {
      "cell_type": "code",
      "metadata": {
        "id": "ak6d2fhVBoNL"
      },
      "source": [
        "y_pred_knn = knn.predict(np.log1p(X_teste))"
      ],
      "execution_count": 29,
      "outputs": []
    },
    {
      "cell_type": "markdown",
      "metadata": {
        "id": "6VF5P9llX6lU"
      },
      "source": [
        "## Comparando as métricas entre KNN e Regressão Linear"
      ]
    },
    {
      "cell_type": "code",
      "metadata": {
        "colab": {
          "base_uri": "https://localhost:8080/"
        },
        "id": "c696sOaZBwqf",
        "outputId": "d85354c9-f7ca-4c16-8c8e-d33b94e40a71"
      },
      "source": [
        "print('Métricas do KNN com 5 vizinhos')\n",
        "print('O R² foi:' , knn.score(np.log1p(X_teste), np.log1p(y_teste)))\n",
        "print('O MAE foi:' , mean_absolute_error(np.log1p(y_teste), y_pred_knn))\n",
        "print('O MSE foi:' , mean_squared_error(np.log1p(y_teste), y_pred_knn))"
      ],
      "execution_count": 30,
      "outputs": [
        {
          "output_type": "stream",
          "text": [
            "Métricas do KNN com 5 vizinhos\n",
            "O R² foi: 0.4735675878641813\n",
            "O MAE foi: 0.30152437788837694\n",
            "O MSE foi: 0.1560865530265582\n"
          ],
          "name": "stdout"
        }
      ]
    },
    {
      "cell_type": "code",
      "metadata": {
        "colab": {
          "base_uri": "https://localhost:8080/"
        },
        "id": "NkAPrkE2CNtV",
        "outputId": "f69b91aa-6c00-4393-db01-5593cbbda292"
      },
      "source": [
        "print('Métricas da Regressão Linear')\n",
        "print('O R² foi:' , reg.score(np.log1p(X_teste), np.log1p(y_teste)))\n",
        "print('O MAE foi:' , mean_absolute_error(np.log1p(y_teste), y_pred))\n",
        "print('O MSE foi:' , mean_squared_error(np.log1p(y_teste), y_pred))"
      ],
      "execution_count": 31,
      "outputs": [
        {
          "output_type": "stream",
          "text": [
            "Métricas da Regressão Linear\n",
            "O R² foi: 0.5236190100056416\n",
            "O MAE foi: 0.2976915211685337\n",
            "O MSE foi: 0.14124636884329\n"
          ],
          "name": "stdout"
        }
      ]
    },
    {
      "cell_type": "markdown",
      "metadata": {
        "id": "jVAW_hrCDhPc"
      },
      "source": [
        "# Aplicando um modelo de Árvore de Decisão"
      ]
    },
    {
      "cell_type": "code",
      "metadata": {
        "id": "6pyIYQcpDenO"
      },
      "source": [
        "dt = DecisionTreeRegressor(max_depth=3,)\n",
        "dt.fit(X_treino, y_treino)\n",
        "y_pred_dt = dt.predict(np.log1p(X_teste))"
      ],
      "execution_count": 32,
      "outputs": []
    },
    {
      "cell_type": "markdown",
      "metadata": {
        "id": "LuJFqDIbgSp0"
      },
      "source": [
        "## Visualizando a Árvore de Decisão"
      ]
    },
    {
      "cell_type": "code",
      "metadata": {
        "colab": {
          "base_uri": "https://localhost:8080/"
        },
        "id": "pJWjW534gZiP",
        "outputId": "163005d6-6877-470f-b086-323555415152"
      },
      "source": [
        "X_treino.columns"
      ],
      "execution_count": 33,
      "outputs": [
        {
          "output_type": "execute_result",
          "data": {
            "text/plain": [
              "Index(['area', 'quarto', 'zona_leste', 'zona_norte', 'zona_oeste', 'zona_sul'], dtype='object')"
            ]
          },
          "metadata": {
            "tags": []
          },
          "execution_count": 33
        }
      ]
    },
    {
      "cell_type": "code",
      "metadata": {
        "colab": {
          "base_uri": "https://localhost:8080/",
          "height": 575
        },
        "id": "lcoJe3i7ftu9",
        "outputId": "778e240c-577f-4a33-e14a-38efd2fa1669"
      },
      "source": [
        "plt.figure(figsize=(15, 10))\n",
        "\n",
        "plot_tree(dt, feature_names=X_treino.columns, filled=True);"
      ],
      "execution_count": 34,
      "outputs": [
        {
          "output_type": "display_data",
          "data": {
            "image/png": "[encoded data removed]",
            "text/plain": [
              "<Figure size 1080x720 with 1 Axes>"
            ]
          },
          "metadata": {
            "tags": [],
            "needs_background": "light"
          }
        }
      ]
    },
    {
      "cell_type": "code",
      "metadata": {
        "colab": {
          "base_uri": "https://localhost:8080/"
        },
        "id": "x3VcfAOoj3e9",
        "outputId": "1780b068-ea9b-443a-a0e0-9253bc5d6d49"
      },
      "source": [
        "for feature in zip(X_treino.columns, dt.feature_importances_):\n",
        "  print(feature)\n",
        "  print('---')"
      ],
      "execution_count": 35,
      "outputs": [
        {
          "output_type": "stream",
          "text": [
            "('area', 0.7206907280850541)\n",
            "---\n",
            "('quarto', 0.0)\n",
            "---\n",
            "('zona_leste', 0.0)\n",
            "---\n",
            "('zona_norte', 0.02585659646484082)\n",
            "---\n",
            "('zona_oeste', 0.17880613300915127)\n",
            "---\n",
            "('zona_sul', 0.07464654244095398)\n",
            "---\n"
          ],
          "name": "stdout"
        }
      ]
    },
    {
      "cell_type": "code",
      "metadata": {
        "colab": {
          "base_uri": "https://localhost:8080/"
        },
        "id": "UD1yXLiZCrI7",
        "outputId": "c11e2216-9829-4a7c-84f4-f99977a42100"
      },
      "source": [
        "print('Métricas da Árvore de Decisão')\n",
        "print('O R² foi:' , dt.score(np.log1p(X_teste), np.log1p(y_teste)))\n",
        "print('O MAE foi:' , mean_absolute_error(np.log1p(y_teste), y_pred_dt))\n",
        "print('O MSE foi:' , mean_squared_error(np.log1p(y_teste), y_pred_dt))"
      ],
      "execution_count": 37,
      "outputs": [
        {
          "output_type": "stream",
          "text": [
            "Métricas da Árvore de Decisão\n",
            "O R² foi: 0.46387050180464207\n",
            "O MAE foi: 0.3125897013290683\n",
            "O MSE foi: 0.15896172693785768\n"
          ],
          "name": "stdout"
        }
      ]
    },
    {
      "cell_type": "markdown",
      "metadata": {
        "id": "QN6Db0xzmEY_"
      },
      "source": [
        "# Aplicando o modelo Random Forest Regressor nos dados"
      ]
    },
    {
      "cell_type": "code",
      "metadata": {
        "id": "oONke4WsmJiw"
      },
      "source": [
        "rfr = RandomForestRegressor(random_state=SEED)"
      ],
      "execution_count": 39,
      "outputs": []
    },
    {
      "cell_type": "markdown",
      "metadata": {
        "id": "BmO6961TFckK"
      },
      "source": [
        "# Usando o score de validação cruzada para escolher um modelo"
      ]
    },
    {
      "cell_type": "code",
      "metadata": {
        "id": "XRK_gnN1F44J"
      },
      "source": [
        "cv_base = cross_val_score(baseline, X_treino, y_treino)\n",
        "cv_reg = cross_val_score(reg, X_treino, y_treino)\n",
        "cv_knn = cross_val_score(knn, X_treino, y_treino)\n",
        "cv_dt = cross_val_score(dt, X_treino, y_treino)\n",
        "cv_rfr = cross_val_score(rfr, X_treino, y_treino)"
      ],
      "execution_count": 40,
      "outputs": []
    },
    {
      "cell_type": "code",
      "metadata": {
        "colab": {
          "base_uri": "https://localhost:8080/"
        },
        "id": "neIfcbCMGWFk",
        "outputId": "7126a157-23fa-42fe-81ba-d1f1f089fe82"
      },
      "source": [
        "cv_base"
      ],
      "execution_count": 41,
      "outputs": [
        {
          "output_type": "execute_result",
          "data": {
            "text/plain": [
              "array([-0.00316362, -0.0015287 , -0.00596767, -0.03298775, -0.01158619])"
            ]
          },
          "metadata": {
            "tags": []
          },
          "execution_count": 41
        }
      ]
    },
    {
      "cell_type": "code",
      "metadata": {
        "colab": {
          "base_uri": "https://localhost:8080/"
        },
        "id": "HXuotPdLGX4m",
        "outputId": "61cd7aa8-7aaa-4aa3-b32e-aa2569e7ca81"
      },
      "source": [
        "cvs = [cv_base, cv_reg, cv_knn, cv_dt, cv_rfr]\n",
        "\n",
        "for cv, pontuacoes in enumerate(cvs):\n",
        "  print(f'{cv}: {np.mean(pontuacoes):.2f}')"
      ],
      "execution_count": 42,
      "outputs": [
        {
          "output_type": "stream",
          "text": [
            "0: -0.01\n",
            "1: 0.46\n",
            "2: 0.41\n",
            "3: 0.40\n",
            "4: 0.37\n"
          ],
          "name": "stdout"
        }
      ]
    },
    {
      "cell_type": "markdown",
      "metadata": {
        "id": "mVCQygQzFGjr"
      },
      "source": [
        "## Usando a busca em grade com validação cruzada (Grid Search CV) para o Random Forest Regressor"
      ]
    },
    {
      "cell_type": "code",
      "metadata": {
        "id": "hSbjjInarjf2"
      },
      "source": [
        "parametros = {'max_depth': [5, 10, 30, 20],\n",
        "              'n_estimators': [100, 200, 150, 110]}"
      ],
      "execution_count": 43,
      "outputs": []
    },
    {
      "cell_type": "code",
      "metadata": {
        "id": "f_GbxR19oJXn"
      },
      "source": [
        "gs = GridSearchCV(rfr, parametros, cv=5, scoring='r2', verbose=2)"
      ],
      "execution_count": 44,
      "outputs": []
    },
    {
      "cell_type": "code",
      "metadata": {
        "colab": {
          "base_uri": "https://localhost:8080/"
        },
        "id": "_ds7Ml0hswfs",
        "outputId": "02854b41-178e-4476-f6b9-e803ce823314"
      },
      "source": [
        "gs.fit(X_treino, y_treino)"
      ],
      "execution_count": 45,
      "outputs": [
        {
          "output_type": "stream",
          "text": [
            "Fitting 5 folds for each of 16 candidates, totalling 80 fits\n",
            "[CV] max_depth=5, n_estimators=100 ...................................\n",
            "[CV] .................... max_depth=5, n_estimators=100, total=   0.2s\n",
            "[CV] max_depth=5, n_estimators=100 ...................................\n"
          ],
          "name": "stdout"
        },
        {
          "output_type": "stream",
          "text": [
            "[Parallel(n_jobs=1)]: Using backend SequentialBackend with 1 concurrent workers.\n",
            "[Parallel(n_jobs=1)]: Done   1 out of   1 | elapsed:    0.2s remaining:    0.0s\n"
          ],
          "name": "stderr"
        },
        {
          "output_type": "stream",
          "text": [
            "[CV] .................... max_depth=5, n_estimators=100, total=   0.2s\n",
            "[CV] max_depth=5, n_estimators=100 ...................................\n",
            "[CV] .................... max_depth=5, n_estimators=100, total=   0.2s\n",
            "[CV] max_depth=5, n_estimators=100 ...................................\n",
            "[CV] .................... max_depth=5, n_estimators=100, total=   0.2s\n",
            "[CV] max_depth=5, n_estimators=100 ...................................\n",
            "[CV] .................... max_depth=5, n_estimators=100, total=   0.2s\n",
            "[CV] max_depth=5, n_estimators=200 ...................................\n",
            "[CV] .................... max_depth=5, n_estimators=200, total=   0.3s\n",
            "[CV] max_depth=5, n_estimators=200 ...................................\n",
            "[CV] .................... max_depth=5, n_estimators=200, total=   0.3s\n",
            "[CV] max_depth=5, n_estimators=200 ...................................\n",
            "[CV] .................... max_depth=5, n_estimators=200, total=   0.3s\n",
            "[CV] max_depth=5, n_estimators=200 ...................................\n",
            "[CV] .................... max_depth=5, n_estimators=200, total=   0.3s\n",
            "[CV] max_depth=5, n_estimators=200 ...................................\n",
            "[CV] .................... max_depth=5, n_estimators=200, total=   0.3s\n",
            "[CV] max_depth=5, n_estimators=150 ...................................\n",
            "[CV] .................... max_depth=5, n_estimators=150, total=   0.2s\n",
            "[CV] max_depth=5, n_estimators=150 ...................................\n",
            "[CV] .................... max_depth=5, n_estimators=150, total=   0.2s\n",
            "[CV] max_depth=5, n_estimators=150 ...................................\n",
            "[CV] .................... max_depth=5, n_estimators=150, total=   0.2s\n",
            "[CV] max_depth=5, n_estimators=150 ...................................\n",
            "[CV] .................... max_depth=5, n_estimators=150, total=   0.2s\n",
            "[CV] max_depth=5, n_estimators=150 ...................................\n",
            "[CV] .................... max_depth=5, n_estimators=150, total=   0.2s\n",
            "[CV] max_depth=5, n_estimators=110 ...................................\n",
            "[CV] .................... max_depth=5, n_estimators=110, total=   0.2s\n",
            "[CV] max_depth=5, n_estimators=110 ...................................\n",
            "[CV] .................... max_depth=5, n_estimators=110, total=   0.2s\n",
            "[CV] max_depth=5, n_estimators=110 ...................................\n",
            "[CV] .................... max_depth=5, n_estimators=110, total=   0.2s\n",
            "[CV] max_depth=5, n_estimators=110 ...................................\n",
            "[CV] .................... max_depth=5, n_estimators=110, total=   0.2s\n",
            "[CV] max_depth=5, n_estimators=110 ...................................\n",
            "[CV] .................... max_depth=5, n_estimators=110, total=   0.2s\n",
            "[CV] max_depth=10, n_estimators=100 ..................................\n",
            "[CV] ................... max_depth=10, n_estimators=100, total=   0.2s\n",
            "[CV] max_depth=10, n_estimators=100 ..................................\n",
            "[CV] ................... max_depth=10, n_estimators=100, total=   0.2s\n",
            "[CV] max_depth=10, n_estimators=100 ..................................\n",
            "[CV] ................... max_depth=10, n_estimators=100, total=   0.2s\n",
            "[CV] max_depth=10, n_estimators=100 ..................................\n",
            "[CV] ................... max_depth=10, n_estimators=100, total=   0.2s\n",
            "[CV] max_depth=10, n_estimators=100 ..................................\n",
            "[CV] ................... max_depth=10, n_estimators=100, total=   0.2s\n",
            "[CV] max_depth=10, n_estimators=200 ..................................\n",
            "[CV] ................... max_depth=10, n_estimators=200, total=   0.4s\n",
            "[CV] max_depth=10, n_estimators=200 ..................................\n",
            "[CV] ................... max_depth=10, n_estimators=200, total=   0.4s\n",
            "[CV] max_depth=10, n_estimators=200 ..................................\n",
            "[CV] ................... max_depth=10, n_estimators=200, total=   0.4s\n",
            "[CV] max_depth=10, n_estimators=200 ..................................\n",
            "[CV] ................... max_depth=10, n_estimators=200, total=   0.4s\n",
            "[CV] max_depth=10, n_estimators=200 ..................................\n",
            "[CV] ................... max_depth=10, n_estimators=200, total=   0.4s\n",
            "[CV] max_depth=10, n_estimators=150 ..................................\n",
            "[CV] ................... max_depth=10, n_estimators=150, total=   0.3s\n",
            "[CV] max_depth=10, n_estimators=150 ..................................\n",
            "[CV] ................... max_depth=10, n_estimators=150, total=   0.4s\n",
            "[CV] max_depth=10, n_estimators=150 ..................................\n",
            "[CV] ................... max_depth=10, n_estimators=150, total=   0.3s\n",
            "[CV] max_depth=10, n_estimators=150 ..................................\n",
            "[CV] ................... max_depth=10, n_estimators=150, total=   0.3s\n",
            "[CV] max_depth=10, n_estimators=150 ..................................\n",
            "[CV] ................... max_depth=10, n_estimators=150, total=   0.3s\n",
            "[CV] max_depth=10, n_estimators=110 ..................................\n",
            "[CV] ................... max_depth=10, n_estimators=110, total=   0.2s\n",
            "[CV] max_depth=10, n_estimators=110 ..................................\n",
            "[CV] ................... max_depth=10, n_estimators=110, total=   0.2s\n",
            "[CV] max_depth=10, n_estimators=110 ..................................\n",
            "[CV] ................... max_depth=10, n_estimators=110, total=   0.2s\n",
            "[CV] max_depth=10, n_estimators=110 ..................................\n",
            "[CV] ................... max_depth=10, n_estimators=110, total=   0.2s\n",
            "[CV] max_depth=10, n_estimators=110 ..................................\n",
            "[CV] ................... max_depth=10, n_estimators=110, total=   0.2s\n",
            "[CV] max_depth=30, n_estimators=100 ..................................\n",
            "[CV] ................... max_depth=30, n_estimators=100, total=   0.2s\n",
            "[CV] max_depth=30, n_estimators=100 ..................................\n",
            "[CV] ................... max_depth=30, n_estimators=100, total=   0.2s\n",
            "[CV] max_depth=30, n_estimators=100 ..................................\n",
            "[CV] ................... max_depth=30, n_estimators=100, total=   0.2s\n",
            "[CV] max_depth=30, n_estimators=100 ..................................\n",
            "[CV] ................... max_depth=30, n_estimators=100, total=   0.2s\n",
            "[CV] max_depth=30, n_estimators=100 ..................................\n",
            "[CV] ................... max_depth=30, n_estimators=100, total=   0.2s\n",
            "[CV] max_depth=30, n_estimators=200 ..................................\n",
            "[CV] ................... max_depth=30, n_estimators=200, total=   0.4s\n",
            "[CV] max_depth=30, n_estimators=200 ..................................\n",
            "[CV] ................... max_depth=30, n_estimators=200, total=   0.4s\n",
            "[CV] max_depth=30, n_estimators=200 ..................................\n",
            "[CV] ................... max_depth=30, n_estimators=200, total=   0.4s\n",
            "[CV] max_depth=30, n_estimators=200 ..................................\n",
            "[CV] ................... max_depth=30, n_estimators=200, total=   0.4s\n",
            "[CV] max_depth=30, n_estimators=200 ..................................\n",
            "[CV] ................... max_depth=30, n_estimators=200, total=   0.4s\n",
            "[CV] max_depth=30, n_estimators=150 ..................................\n",
            "[CV] ................... max_depth=30, n_estimators=150, total=   0.3s\n",
            "[CV] max_depth=30, n_estimators=150 ..................................\n",
            "[CV] ................... max_depth=30, n_estimators=150, total=   0.3s\n",
            "[CV] max_depth=30, n_estimators=150 ..................................\n",
            "[CV] ................... max_depth=30, n_estimators=150, total=   0.3s\n",
            "[CV] max_depth=30, n_estimators=150 ..................................\n",
            "[CV] ................... max_depth=30, n_estimators=150, total=   0.3s\n",
            "[CV] max_depth=30, n_estimators=150 ..................................\n",
            "[CV] ................... max_depth=30, n_estimators=150, total=   0.3s\n",
            "[CV] max_depth=30, n_estimators=110 ..................................\n",
            "[CV] ................... max_depth=30, n_estimators=110, total=   0.2s\n",
            "[CV] max_depth=30, n_estimators=110 ..................................\n",
            "[CV] ................... max_depth=30, n_estimators=110, total=   0.2s\n",
            "[CV] max_depth=30, n_estimators=110 ..................................\n",
            "[CV] ................... max_depth=30, n_estimators=110, total=   0.2s\n",
            "[CV] max_depth=30, n_estimators=110 ..................................\n",
            "[CV] ................... max_depth=30, n_estimators=110, total=   0.2s\n",
            "[CV] max_depth=30, n_estimators=110 ..................................\n",
            "[CV] ................... max_depth=30, n_estimators=110, total=   0.2s\n",
            "[CV] max_depth=20, n_estimators=100 ..................................\n",
            "[CV] ................... max_depth=20, n_estimators=100, total=   0.2s\n",
            "[CV] max_depth=20, n_estimators=100 ..................................\n",
            "[CV] ................... max_depth=20, n_estimators=100, total=   0.2s\n",
            "[CV] max_depth=20, n_estimators=100 ..................................\n",
            "[CV] ................... max_depth=20, n_estimators=100, total=   0.2s\n",
            "[CV] max_depth=20, n_estimators=100 ..................................\n",
            "[CV] ................... max_depth=20, n_estimators=100, total=   0.2s\n",
            "[CV] max_depth=20, n_estimators=100 ..................................\n",
            "[CV] ................... max_depth=20, n_estimators=100, total=   0.2s\n",
            "[CV] max_depth=20, n_estimators=200 ..................................\n",
            "[CV] ................... max_depth=20, n_estimators=200, total=   0.4s\n",
            "[CV] max_depth=20, n_estimators=200 ..................................\n",
            "[CV] ................... max_depth=20, n_estimators=200, total=   0.4s\n",
            "[CV] max_depth=20, n_estimators=200 ..................................\n",
            "[CV] ................... max_depth=20, n_estimators=200, total=   0.4s\n",
            "[CV] max_depth=20, n_estimators=200 ..................................\n",
            "[CV] ................... max_depth=20, n_estimators=200, total=   0.4s\n",
            "[CV] max_depth=20, n_estimators=200 ..................................\n",
            "[CV] ................... max_depth=20, n_estimators=200, total=   0.4s\n",
            "[CV] max_depth=20, n_estimators=150 ..................................\n",
            "[CV] ................... max_depth=20, n_estimators=150, total=   0.3s\n",
            "[CV] max_depth=20, n_estimators=150 ..................................\n",
            "[CV] ................... max_depth=20, n_estimators=150, total=   0.3s\n",
            "[CV] max_depth=20, n_estimators=150 ..................................\n",
            "[CV] ................... max_depth=20, n_estimators=150, total=   0.3s\n",
            "[CV] max_depth=20, n_estimators=150 ..................................\n",
            "[CV] ................... max_depth=20, n_estimators=150, total=   0.3s\n",
            "[CV] max_depth=20, n_estimators=150 ..................................\n",
            "[CV] ................... max_depth=20, n_estimators=150, total=   0.3s\n",
            "[CV] max_depth=20, n_estimators=110 ..................................\n",
            "[CV] ................... max_depth=20, n_estimators=110, total=   0.2s\n",
            "[CV] max_depth=20, n_estimators=110 ..................................\n",
            "[CV] ................... max_depth=20, n_estimators=110, total=   0.2s\n",
            "[CV] max_depth=20, n_estimators=110 ..................................\n",
            "[CV] ................... max_depth=20, n_estimators=110, total=   0.2s\n",
            "[CV] max_depth=20, n_estimators=110 ..................................\n",
            "[CV] ................... max_depth=20, n_estimators=110, total=   0.2s\n",
            "[CV] max_depth=20, n_estimators=110 ..................................\n",
            "[CV] ................... max_depth=20, n_estimators=110, total=   0.2s\n"
          ],
          "name": "stdout"
        },
        {
          "output_type": "stream",
          "text": [
            "[Parallel(n_jobs=1)]: Done  80 out of  80 | elapsed:   21.4s finished\n"
          ],
          "name": "stderr"
        },
        {
          "output_type": "execute_result",
          "data": {
            "text/plain": [
              "GridSearchCV(cv=5, error_score=nan,\n",
              "             estimator=RandomForestRegressor(bootstrap=True, ccp_alpha=0.0,\n",
              "                                             criterion='mse', max_depth=None,\n",
              "                                             max_features='auto',\n",
              "                                             max_leaf_nodes=None,\n",
              "                                             max_samples=None,\n",
              "                                             min_impurity_decrease=0.0,\n",
              "                                             min_impurity_split=None,\n",
              "                                             min_samples_leaf=1,\n",
              "                                             min_samples_split=2,\n",
              "                                             min_weight_fraction_leaf=0.0,\n",
              "                                             n_estimators=100, n_jobs=None,\n",
              "                                             oob_score=False, random_state=42,\n",
              "                                             verbose=0, warm_start=False),\n",
              "             iid='deprecated', n_jobs=None,\n",
              "             param_grid={'max_depth': [5, 10, 30, 20],\n",
              "                         'n_estimators': [100, 200, 150, 110]},\n",
              "             pre_dispatch='2*n_jobs', refit=True, return_train_score=False,\n",
              "             scoring='r2', verbose=2)"
            ]
          },
          "metadata": {
            "tags": []
          },
          "execution_count": 45
        }
      ]
    },
    {
      "cell_type": "code",
      "metadata": {
        "colab": {
          "base_uri": "https://localhost:8080/"
        },
        "id": "MzhNhGRTtsQQ",
        "outputId": "7a768ec8-9cf8-463e-98f4-430e2faa6adf"
      },
      "source": [
        "gs.best_score_"
      ],
      "execution_count": 46,
      "outputs": [
        {
          "output_type": "execute_result",
          "data": {
            "text/plain": [
              "0.4521121360565788"
            ]
          },
          "metadata": {
            "tags": []
          },
          "execution_count": 46
        }
      ]
    },
    {
      "cell_type": "code",
      "metadata": {
        "colab": {
          "base_uri": "https://localhost:8080/"
        },
        "id": "U4fc37Jxt-pV",
        "outputId": "1aa89287-75dd-45a8-e6a3-4ad697a5f3e9"
      },
      "source": [
        "gs.best_estimator_"
      ],
      "execution_count": 47,
      "outputs": [
        {
          "output_type": "execute_result",
          "data": {
            "text/plain": [
              "RandomForestRegressor(bootstrap=True, ccp_alpha=0.0, criterion='mse',\n",
              "                      max_depth=5, max_features='auto', max_leaf_nodes=None,\n",
              "                      max_samples=None, min_impurity_decrease=0.0,\n",
              "                      min_impurity_split=None, min_samples_leaf=1,\n",
              "                      min_samples_split=2, min_weight_fraction_leaf=0.0,\n",
              "                      n_estimators=150, n_jobs=None, oob_score=False,\n",
              "                      random_state=42, verbose=0, warm_start=False)"
            ]
          },
          "metadata": {
            "tags": []
          },
          "execution_count": 47
        }
      ]
    },
    {
      "cell_type": "code",
      "metadata": {
        "colab": {
          "base_uri": "https://localhost:8080/"
        },
        "id": "gotoGcTTuG38",
        "outputId": "aab587e3-193e-4950-da79-a38befe5d630"
      },
      "source": [
        "gs.best_params_"
      ],
      "execution_count": 48,
      "outputs": [
        {
          "output_type": "execute_result",
          "data": {
            "text/plain": [
              "{'max_depth': 5, 'n_estimators': 150}"
            ]
          },
          "metadata": {
            "tags": []
          },
          "execution_count": 48
        }
      ]
    },
    {
      "cell_type": "code",
      "metadata": {
        "id": "LiPYjyZdvnaF"
      },
      "source": [
        "resultados_gs = pd.DataFrame(gs.cv_results_)"
      ],
      "execution_count": 50,
      "outputs": []
    },
    {
      "cell_type": "code",
      "metadata": {
        "colab": {
          "base_uri": "https://localhost:8080/",
          "height": 479
        },
        "id": "rhGsnEmIwEXh",
        "outputId": "d32d4216-712c-4e22-a0f7-efde55f3598b"
      },
      "source": [
        "resultados_gs.sort_values(by='mean_test_score', ascending=False).head()"
      ],
      "execution_count": 51,
      "outputs": [
        {
          "output_type": "execute_result",
          "data": {
            "text/html": [
              "<div>\n",
              "<style scoped>\n",
              "    .dataframe tbody tr th:only-of-type {\n",
              "        vertical-align: middle;\n",
              "    }\n",
              "\n",
              "    .dataframe tbody tr th {\n",
              "        vertical-align: top;\n",
              "    }\n",
              "\n",
              "    .dataframe thead th {\n",
              "        text-align: right;\n",
              "    }\n",
              "</style>\n",
              "<table border=\"1\" class=\"dataframe\">\n",
              "  <thead>\n",
              "    <tr style=\"text-align: right;\">\n",
              "      <th></th>\n",
              "      <th>mean_fit_time</th>\n",
              "      <th>std_fit_time</th>\n",
              "      <th>mean_score_time</th>\n",
              "      <th>std_score_time</th>\n",
              "      <th>param_max_depth</th>\n",
              "      <th>param_n_estimators</th>\n",
              "      <th>params</th>\n",
              "      <th>split0_test_score</th>\n",
              "      <th>split1_test_score</th>\n",
              "      <th>split2_test_score</th>\n",
              "      <th>split3_test_score</th>\n",
              "      <th>split4_test_score</th>\n",
              "      <th>mean_test_score</th>\n",
              "      <th>std_test_score</th>\n",
              "      <th>rank_test_score</th>\n",
              "    </tr>\n",
              "  </thead>\n",
              "  <tbody>\n",
              "    <tr>\n",
              "      <th>2</th>\n",
              "      <td>0.225823</td>\n",
              "      <td>0.007646</td>\n",
              "      <td>0.011238</td>\n",
              "      <td>0.000331</td>\n",
              "      <td>5</td>\n",
              "      <td>150</td>\n",
              "      <td>{'max_depth': 5, 'n_estimators': 150}</td>\n",
              "      <td>0.502099</td>\n",
              "      <td>0.468864</td>\n",
              "      <td>0.321878</td>\n",
              "      <td>0.499131</td>\n",
              "      <td>0.468589</td>\n",
              "      <td>0.452112</td>\n",
              "      <td>0.066667</td>\n",
              "      <td>1</td>\n",
              "    </tr>\n",
              "    <tr>\n",
              "      <th>3</th>\n",
              "      <td>0.170774</td>\n",
              "      <td>0.005952</td>\n",
              "      <td>0.010151</td>\n",
              "      <td>0.000743</td>\n",
              "      <td>5</td>\n",
              "      <td>110</td>\n",
              "      <td>{'max_depth': 5, 'n_estimators': 110}</td>\n",
              "      <td>0.499954</td>\n",
              "      <td>0.469496</td>\n",
              "      <td>0.323204</td>\n",
              "      <td>0.501783</td>\n",
              "      <td>0.464599</td>\n",
              "      <td>0.451807</td>\n",
              "      <td>0.066077</td>\n",
              "      <td>2</td>\n",
              "    </tr>\n",
              "    <tr>\n",
              "      <th>1</th>\n",
              "      <td>0.296997</td>\n",
              "      <td>0.006968</td>\n",
              "      <td>0.014887</td>\n",
              "      <td>0.000108</td>\n",
              "      <td>5</td>\n",
              "      <td>200</td>\n",
              "      <td>{'max_depth': 5, 'n_estimators': 200}</td>\n",
              "      <td>0.502824</td>\n",
              "      <td>0.468775</td>\n",
              "      <td>0.322238</td>\n",
              "      <td>0.497793</td>\n",
              "      <td>0.465837</td>\n",
              "      <td>0.451493</td>\n",
              "      <td>0.066317</td>\n",
              "      <td>3</td>\n",
              "    </tr>\n",
              "    <tr>\n",
              "      <th>0</th>\n",
              "      <td>0.148463</td>\n",
              "      <td>0.002400</td>\n",
              "      <td>0.008919</td>\n",
              "      <td>0.000834</td>\n",
              "      <td>5</td>\n",
              "      <td>100</td>\n",
              "      <td>{'max_depth': 5, 'n_estimators': 100}</td>\n",
              "      <td>0.500861</td>\n",
              "      <td>0.467442</td>\n",
              "      <td>0.321483</td>\n",
              "      <td>0.500066</td>\n",
              "      <td>0.465184</td>\n",
              "      <td>0.451007</td>\n",
              "      <td>0.066543</td>\n",
              "      <td>4</td>\n",
              "    </tr>\n",
              "    <tr>\n",
              "      <th>4</th>\n",
              "      <td>0.184601</td>\n",
              "      <td>0.011022</td>\n",
              "      <td>0.011705</td>\n",
              "      <td>0.001815</td>\n",
              "      <td>10</td>\n",
              "      <td>100</td>\n",
              "      <td>{'max_depth': 10, 'n_estimators': 100}</td>\n",
              "      <td>0.486412</td>\n",
              "      <td>0.367295</td>\n",
              "      <td>0.264072</td>\n",
              "      <td>0.413945</td>\n",
              "      <td>0.420188</td>\n",
              "      <td>0.390383</td>\n",
              "      <td>0.073692</td>\n",
              "      <td>5</td>\n",
              "    </tr>\n",
              "  </tbody>\n",
              "</table>\n",
              "</div>"
            ],
            "text/plain": [
              "   mean_fit_time  std_fit_time  ...  std_test_score  rank_test_score\n",
              "2       0.225823      0.007646  ...        0.066667                1\n",
              "3       0.170774      0.005952  ...        0.066077                2\n",
              "1       0.296997      0.006968  ...        0.066317                3\n",
              "0       0.148463      0.002400  ...        0.066543                4\n",
              "4       0.184601      0.011022  ...        0.073692                5\n",
              "\n",
              "[5 rows x 15 columns]"
            ]
          },
          "metadata": {
            "tags": []
          },
          "execution_count": 51
        }
      ]
    },
    {
      "cell_type": "code",
      "metadata": {
        "id": "xM6yOhFNn0BA"
      },
      "source": [
        "rfr_escolhido = RandomForestRegressor(max_depth=5, \n",
        "                                   n_estimators=200, \n",
        "                                   random_state=SEED)"
      ],
      "execution_count": 56,
      "outputs": []
    },
    {
      "cell_type": "code",
      "metadata": {
        "colab": {
          "base_uri": "https://localhost:8080/"
        },
        "id": "fXRUeZ6xxWjo",
        "outputId": "9d01ef00-bd04-44b7-e49f-d1b38959a48a"
      },
      "source": [
        "rfr_escolhido.fit(X_treino, y_treino)\n",
        "y_pred_rfr_escolhido = rfr_escolhido.predict(X_teste)\n",
        "print('O R² final do Random Forest após a busca de hiperparâmetros e a validação cruzada é:', rfr_escolhido.score(np.log1p(X_teste), np.log1p(y_teste)))"
      ],
      "execution_count": 57,
      "outputs": [
        {
          "output_type": "stream",
          "text": [
            "O R² final do Random Forest após a busca de hiperparâmetros e a validação cruzada é: 0.5510090410338664\n"
          ],
          "name": "stdout"
        }
      ]
    },
    {
      "cell_type": "markdown",
      "metadata": {
        "id": "H1rBfjkPyJnA"
      },
      "source": [
        "# Salvando o modelo"
      ]
    },
    {
      "cell_type": "code",
      "metadata": {
        "id": "416KieQ_yIj8"
      },
      "source": [
        "import pickle"
      ],
      "execution_count": 58,
      "outputs": []
    },
    {
      "cell_type": "code",
      "metadata": {
        "id": "RfevxnYByfvK"
      },
      "source": [
        "pickle.dump(rfr_escolhido, open('modelo_rfr.pkl', 'wb'))"
      ],
      "execution_count": 59,
      "outputs": []
    },
    {
      "cell_type": "code",
      "metadata": {
        "id": "RJgT0pKBzZUT"
      },
      "source": [
        "modelo_final = pickle.load(open('modelo_rfr.pkl', 'rb'))"
      ],
      "execution_count": 60,
      "outputs": []
    },
    {
      "cell_type": "code",
      "metadata": {
        "colab": {
          "base_uri": "https://localhost:8080/"
        },
        "id": "ij8h-34hztO8",
        "outputId": "d0905082-88c1-4e81-c636-80ab2a0e62df"
      },
      "source": [
        "modelo_final.score(np.log1p(X_teste), np.log1p(y_teste))"
      ],
      "execution_count": 61,
      "outputs": [
        {
          "output_type": "execute_result",
          "data": {
            "text/plain": [
              "0.5510090410338664"
            ]
          },
          "metadata": {
            "tags": []
          },
          "execution_count": 61
        }
      ]
    }
  ]
}