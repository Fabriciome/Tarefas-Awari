{
  "nbformat": 4,
  "nbformat_minor": 0,
  "metadata": {
    "colab": {
      "name": "Manipulacao_dados_mercado_livre.ipynb",
      "provenance": [],
      "collapsed_sections": [],
      "include_colab_link": true
    },
    "kernelspec": {
      "name": "python3",
      "display_name": "Python 3"
    },
    "language_info": {
      "name": "python"
    }
  },
  "cells": [
    {
      "cell_type": "markdown",
      "metadata": {
        "id": "view-in-github",
        "colab_type": "text"
      },
      "source": [
        "<a href=\"https://colab.research.google.com/github/Fabriciome/Tarefas-Awari/blob/main/Manipulacao_dados_mercado_livre.ipynb\" target=\"_parent\"><img src=\"https://colab.research.google.com/assets/colab-badge.svg\" alt=\"Open In Colab\"/></a>"
      ]
    },
    {
      "cell_type": "code",
      "metadata": {
        "id": "8NjlDN_fC2MA"
      },
      "source": [
        "#importando as bibliotecas\n",
        "import pandas as pd\n",
        "import numpy as np"
      ],
      "execution_count": 50,
      "outputs": []
    },
    {
      "cell_type": "code",
      "metadata": {
        "id": "9VJYP0W4gxUd"
      },
      "source": [
        "#buscando o arquivo de dados coletados do Mercado Livre\n",
        "url = 'https://raw.githubusercontent.com/Fabriciome/Tarefas-Awari/main/dados_mercado_livre.csv'\n",
        "df_ml = pd.read_csv(url, thousands='.')"
      ],
      "execution_count": 51,
      "outputs": []
    },
    {
      "cell_type": "code",
      "metadata": {
        "colab": {
          "base_uri": "https://localhost:8080/",
          "height": 204
        },
        "id": "hv69MjHgg3zn",
        "outputId": "26bb4473-ecb5-4e6f-fe6f-79fbe9dddc89"
      },
      "source": [
        "df_ml.head()"
      ],
      "execution_count": 52,
      "outputs": [
        {
          "output_type": "execute_result",
          "data": {
            "text/html": [
              "<div>\n",
              "<style scoped>\n",
              "    .dataframe tbody tr th:only-of-type {\n",
              "        vertical-align: middle;\n",
              "    }\n",
              "\n",
              "    .dataframe tbody tr th {\n",
              "        vertical-align: top;\n",
              "    }\n",
              "\n",
              "    .dataframe thead th {\n",
              "        text-align: right;\n",
              "    }\n",
              "</style>\n",
              "<table border=\"1\" class=\"dataframe\">\n",
              "  <thead>\n",
              "    <tr style=\"text-align: right;\">\n",
              "      <th></th>\n",
              "      <th>aluguel</th>\n",
              "      <th>area_quarto</th>\n",
              "      <th>zona</th>\n",
              "    </tr>\n",
              "  </thead>\n",
              "  <tbody>\n",
              "    <tr>\n",
              "      <th>0</th>\n",
              "      <td>2000</td>\n",
              "      <td>51 m² construídos2 quartos</td>\n",
              "      <td>sul</td>\n",
              "    </tr>\n",
              "    <tr>\n",
              "      <th>1</th>\n",
              "      <td>2700</td>\n",
              "      <td>72 m² construídos3 quartos</td>\n",
              "      <td>sul</td>\n",
              "    </tr>\n",
              "    <tr>\n",
              "      <th>2</th>\n",
              "      <td>3200</td>\n",
              "      <td>59 m² construídos1 quarto</td>\n",
              "      <td>sul</td>\n",
              "    </tr>\n",
              "    <tr>\n",
              "      <th>3</th>\n",
              "      <td>1300</td>\n",
              "      <td>70 m² construídos2 quartos</td>\n",
              "      <td>sul</td>\n",
              "    </tr>\n",
              "    <tr>\n",
              "      <th>4</th>\n",
              "      <td>1800</td>\n",
              "      <td>90 m² construídos2 quartos</td>\n",
              "      <td>sul</td>\n",
              "    </tr>\n",
              "  </tbody>\n",
              "</table>\n",
              "</div>"
            ],
            "text/plain": [
              "   aluguel                 area_quarto zona\n",
              "0     2000  51 m² construídos2 quartos  sul\n",
              "1     2700  72 m² construídos3 quartos  sul\n",
              "2     3200   59 m² construídos1 quarto  sul\n",
              "3     1300  70 m² construídos2 quartos  sul\n",
              "4     1800  90 m² construídos2 quartos  sul"
            ]
          },
          "metadata": {
            "tags": []
          },
          "execution_count": 52
        }
      ]
    },
    {
      "cell_type": "code",
      "metadata": {
        "colab": {
          "base_uri": "https://localhost:8080/"
        },
        "id": "cwVSmEVFhCNn",
        "outputId": "fd3512a0-47a3-4ddf-b705-2f7ce7fbb0f8"
      },
      "source": [
        "df_ml.info()"
      ],
      "execution_count": 23,
      "outputs": [
        {
          "output_type": "stream",
          "text": [
            "<class 'pandas.core.frame.DataFrame'>\n",
            "RangeIndex: 1152 entries, 0 to 1151\n",
            "Data columns (total 3 columns):\n",
            " #   Column       Non-Null Count  Dtype \n",
            "---  ------       --------------  ----- \n",
            " 0   aluguel      1152 non-null   int64 \n",
            " 1   area_quarto  1152 non-null   object\n",
            " 2   zona         1152 non-null   object\n",
            "dtypes: int64(1), object(2)\n",
            "memory usage: 27.1+ KB\n"
          ],
          "name": "stdout"
        }
      ]
    },
    {
      "cell_type": "code",
      "metadata": {
        "colab": {
          "base_uri": "https://localhost:8080/",
          "height": 80
        },
        "id": "eHUYnTX0hKcW",
        "outputId": "88e64f67-132a-4224-931c-5d263d83cc28"
      },
      "source": [
        "df_ml.describe().T"
      ],
      "execution_count": 24,
      "outputs": [
        {
          "output_type": "execute_result",
          "data": {
            "text/html": [
              "<div>\n",
              "<style scoped>\n",
              "    .dataframe tbody tr th:only-of-type {\n",
              "        vertical-align: middle;\n",
              "    }\n",
              "\n",
              "    .dataframe tbody tr th {\n",
              "        vertical-align: top;\n",
              "    }\n",
              "\n",
              "    .dataframe thead th {\n",
              "        text-align: right;\n",
              "    }\n",
              "</style>\n",
              "<table border=\"1\" class=\"dataframe\">\n",
              "  <thead>\n",
              "    <tr style=\"text-align: right;\">\n",
              "      <th></th>\n",
              "      <th>count</th>\n",
              "      <th>mean</th>\n",
              "      <th>std</th>\n",
              "      <th>min</th>\n",
              "      <th>25%</th>\n",
              "      <th>50%</th>\n",
              "      <th>75%</th>\n",
              "      <th>max</th>\n",
              "    </tr>\n",
              "  </thead>\n",
              "  <tbody>\n",
              "    <tr>\n",
              "      <th>aluguel</th>\n",
              "      <td>1152.0</td>\n",
              "      <td>2341.382812</td>\n",
              "      <td>1517.385548</td>\n",
              "      <td>500.0</td>\n",
              "      <td>1350.0</td>\n",
              "      <td>1900.0</td>\n",
              "      <td>2813.0</td>\n",
              "      <td>15000.0</td>\n",
              "    </tr>\n",
              "  </tbody>\n",
              "</table>\n",
              "</div>"
            ],
            "text/plain": [
              "          count         mean          std  ...     50%     75%      max\n",
              "aluguel  1152.0  2341.382812  1517.385548  ...  1900.0  2813.0  15000.0\n",
              "\n",
              "[1 rows x 8 columns]"
            ]
          },
          "metadata": {
            "tags": []
          },
          "execution_count": 24
        }
      ]
    },
    {
      "cell_type": "code",
      "metadata": {
        "colab": {
          "base_uri": "https://localhost:8080/"
        },
        "id": "Sm6cgbxUhfM0",
        "outputId": "fd5ecd07-1ffa-4500-a8d3-5035643024a9"
      },
      "source": [
        "df_ml.isna().sum()"
      ],
      "execution_count": 25,
      "outputs": [
        {
          "output_type": "execute_result",
          "data": {
            "text/plain": [
              "aluguel        0\n",
              "area_quarto    0\n",
              "zona           0\n",
              "dtype: int64"
            ]
          },
          "metadata": {
            "tags": []
          },
          "execution_count": 25
        }
      ]
    },
    {
      "cell_type": "code",
      "metadata": {
        "colab": {
          "base_uri": "https://localhost:8080/"
        },
        "id": "g1iJldZWbIkG",
        "outputId": "378a2187-0524-4232-8f81-f34ff52f6cdb"
      },
      "source": [
        "df_ml.isnull().sum()"
      ],
      "execution_count": 26,
      "outputs": [
        {
          "output_type": "execute_result",
          "data": {
            "text/plain": [
              "aluguel        0\n",
              "area_quarto    0\n",
              "zona           0\n",
              "dtype: int64"
            ]
          },
          "metadata": {
            "tags": []
          },
          "execution_count": 26
        }
      ]
    },
    {
      "cell_type": "code",
      "metadata": {
        "id": "hEAYaD9RoM_y"
      },
      "source": [
        "df_ml['aluguel'] = df_ml['aluguel'].astype(float)"
      ],
      "execution_count": 28,
      "outputs": []
    },
    {
      "cell_type": "code",
      "metadata": {
        "colab": {
          "base_uri": "https://localhost:8080/"
        },
        "id": "Af0JLN1VoXgq",
        "outputId": "8be7c4d5-cc10-4e58-af15-12efa79fa5db"
      },
      "source": [
        "df_ml.info()"
      ],
      "execution_count": 29,
      "outputs": [
        {
          "output_type": "stream",
          "text": [
            "<class 'pandas.core.frame.DataFrame'>\n",
            "RangeIndex: 1152 entries, 0 to 1151\n",
            "Data columns (total 3 columns):\n",
            " #   Column       Non-Null Count  Dtype  \n",
            "---  ------       --------------  -----  \n",
            " 0   aluguel      1152 non-null   float64\n",
            " 1   area_quarto  1152 non-null   object \n",
            " 2   zona         1152 non-null   object \n",
            "dtypes: float64(1), object(2)\n",
            "memory usage: 27.1+ KB\n"
          ],
          "name": "stdout"
        }
      ]
    },
    {
      "cell_type": "code",
      "metadata": {
        "id": "DOhBcYiuo32H"
      },
      "source": [
        "linha0 = df_ml['area_quarto'][0]"
      ],
      "execution_count": 30,
      "outputs": []
    },
    {
      "cell_type": "code",
      "metadata": {
        "colab": {
          "base_uri": "https://localhost:8080/",
          "height": 35
        },
        "id": "RvYLz_dVo_Uf",
        "outputId": "a450d3a8-6b5f-413a-d534-6cee4e413d7d"
      },
      "source": [
        "linha0.split(sep=' m²')[0]"
      ],
      "execution_count": 31,
      "outputs": [
        {
          "output_type": "execute_result",
          "data": {
            "application/vnd.google.colaboratory.intrinsic+json": {
              "type": "string"
            },
            "text/plain": [
              "'51'"
            ]
          },
          "metadata": {
            "tags": []
          },
          "execution_count": 31
        }
      ]
    },
    {
      "cell_type": "code",
      "metadata": {
        "id": "kLJaTOmArYCm"
      },
      "source": [
        "linha_inventada = ' 2 quartos'"
      ],
      "execution_count": 32,
      "outputs": []
    },
    {
      "cell_type": "code",
      "metadata": {
        "colab": {
          "base_uri": "https://localhost:8080/"
        },
        "id": "UTmbJN2rpfgI",
        "outputId": "8a0fe46f-2c2c-488b-a5fc-7321e8601a2f"
      },
      "source": [
        "if 'm²' in linha0:\n",
        "  print(linha0.split(sep=' m²')[0])\n",
        "else:\n",
        "  print(np.nan)"
      ],
      "execution_count": 33,
      "outputs": [
        {
          "output_type": "stream",
          "text": [
            "51\n"
          ],
          "name": "stdout"
        }
      ]
    },
    {
      "cell_type": "code",
      "metadata": {
        "colab": {
          "base_uri": "https://localhost:8080/"
        },
        "id": "VWbkKNAsrQFC",
        "outputId": "3f10e325-24f1-4684-b071-7cd58e0d1647"
      },
      "source": [
        "if 'm²' in linha_inventada:\n",
        "  print(linha_inventada.split(sep=' m²')[0])\n",
        "else:\n",
        "  print(np.nan)"
      ],
      "execution_count": 34,
      "outputs": [
        {
          "output_type": "stream",
          "text": [
            "nan\n"
          ],
          "name": "stdout"
        }
      ]
    },
    {
      "cell_type": "code",
      "metadata": {
        "id": "a9nNSmnYsf2q"
      },
      "source": [
        "def extrair_area(entrada):\n",
        "  if 'm²' in entrada:\n",
        "    area = entrada.split(sep=' m²')[0]\n",
        "  else:\n",
        "    area = np.nan\n",
        "  return area"
      ],
      "execution_count": 36,
      "outputs": []
    },
    {
      "cell_type": "code",
      "metadata": {
        "id": "s1zW4vpLtEmn"
      },
      "source": [
        "df_ml['area'] = df_ml['area_quarto'].apply(extrair_area).astype(float)"
      ],
      "execution_count": 38,
      "outputs": []
    },
    {
      "cell_type": "code",
      "metadata": {
        "colab": {
          "base_uri": "https://localhost:8080/"
        },
        "id": "i_O7TSqhuJTZ",
        "outputId": "16a81b81-8a19-4a2f-b41e-6f0a3dd8a37e"
      },
      "source": [
        "df_ml.info()"
      ],
      "execution_count": 39,
      "outputs": [
        {
          "output_type": "stream",
          "text": [
            "<class 'pandas.core.frame.DataFrame'>\n",
            "RangeIndex: 1152 entries, 0 to 1151\n",
            "Data columns (total 4 columns):\n",
            " #   Column       Non-Null Count  Dtype  \n",
            "---  ------       --------------  -----  \n",
            " 0   aluguel      1152 non-null   float64\n",
            " 1   area_quarto  1152 non-null   object \n",
            " 2   zona         1152 non-null   object \n",
            " 3   area         1152 non-null   float64\n",
            "dtypes: float64(2), object(2)\n",
            "memory usage: 36.1+ KB\n"
          ],
          "name": "stdout"
        }
      ]
    },
    {
      "cell_type": "code",
      "metadata": {
        "colab": {
          "base_uri": "https://localhost:8080/",
          "height": 35
        },
        "id": "YLBbPDqCvPCC",
        "outputId": "05d4b594-e76c-442b-f34f-47b84ec4ccbf"
      },
      "source": [
        "linha0"
      ],
      "execution_count": 40,
      "outputs": [
        {
          "output_type": "execute_result",
          "data": {
            "application/vnd.google.colaboratory.intrinsic+json": {
              "type": "string"
            },
            "text/plain": [
              "'51 m² construídos2 quartos'"
            ]
          },
          "metadata": {
            "tags": []
          },
          "execution_count": 40
        }
      ]
    },
    {
      "cell_type": "code",
      "metadata": {
        "id": "SzqaX5_1v0Iu"
      },
      "source": [
        "padrao = '(\\d+)' "
      ],
      "execution_count": 41,
      "outputs": []
    },
    {
      "cell_type": "code",
      "metadata": {
        "id": "XZsL1s2QwEui"
      },
      "source": [
        "import re"
      ],
      "execution_count": 42,
      "outputs": []
    },
    {
      "cell_type": "code",
      "metadata": {
        "colab": {
          "base_uri": "https://localhost:8080/",
          "height": 35
        },
        "id": "RHHS_GjZwHCJ",
        "outputId": "9d2b1b02-282b-4e97-f349-2137deaee3f3"
      },
      "source": [
        "re.findall(padrao, linha0)[1]"
      ],
      "execution_count": 43,
      "outputs": [
        {
          "output_type": "execute_result",
          "data": {
            "application/vnd.google.colaboratory.intrinsic+json": {
              "type": "string"
            },
            "text/plain": [
              "'2'"
            ]
          },
          "metadata": {
            "tags": []
          },
          "execution_count": 43
        }
      ]
    },
    {
      "cell_type": "code",
      "metadata": {
        "id": "GL3EI_sBr5Cz"
      },
      "source": [
        "def extrair_quarto(entrada):\n",
        "  padrao = '(\\d+)' \n",
        "\n",
        "  if 'quarto' in entrada:\n",
        "    quarto = re.findall(padrao, entrada)[1]\n",
        "  else:\n",
        "    quarto = np.nan\n",
        "  return quarto"
      ],
      "execution_count": 44,
      "outputs": []
    },
    {
      "cell_type": "code",
      "metadata": {
        "id": "3XyuwaLzrnek"
      },
      "source": [
        "df_ml['quarto'] = df_ml['area_quarto'].apply(extrair_quarto).astype(float)"
      ],
      "execution_count": 45,
      "outputs": []
    },
    {
      "cell_type": "code",
      "metadata": {
        "colab": {
          "base_uri": "https://localhost:8080/"
        },
        "id": "C2VBhe-2xtbS",
        "outputId": "e3f0fce0-49ff-46bb-af8a-0e6c94a5f6df"
      },
      "source": [
        "df_ml.info()"
      ],
      "execution_count": 46,
      "outputs": [
        {
          "output_type": "stream",
          "text": [
            "<class 'pandas.core.frame.DataFrame'>\n",
            "RangeIndex: 1152 entries, 0 to 1151\n",
            "Data columns (total 5 columns):\n",
            " #   Column       Non-Null Count  Dtype  \n",
            "---  ------       --------------  -----  \n",
            " 0   aluguel      1152 non-null   float64\n",
            " 1   area_quarto  1152 non-null   object \n",
            " 2   zona         1152 non-null   object \n",
            " 3   area         1152 non-null   float64\n",
            " 4   quarto       1152 non-null   float64\n",
            "dtypes: float64(3), object(2)\n",
            "memory usage: 45.1+ KB\n"
          ],
          "name": "stdout"
        }
      ]
    },
    {
      "cell_type": "code",
      "metadata": {
        "id": "Ql3lQpjAxy99"
      },
      "source": [
        "df_ml = df_ml.drop('area_quarto', axis=1)"
      ],
      "execution_count": 47,
      "outputs": []
    },
    {
      "cell_type": "code",
      "metadata": {
        "colab": {
          "base_uri": "https://localhost:8080/",
          "height": 204
        },
        "id": "ahEnRx_JyGIQ",
        "outputId": "f0eb2da6-8c9a-4bd2-eb78-cd70e7236aaf"
      },
      "source": [
        "df_ml.head()"
      ],
      "execution_count": 48,
      "outputs": [
        {
          "output_type": "execute_result",
          "data": {
            "text/html": [
              "<div>\n",
              "<style scoped>\n",
              "    .dataframe tbody tr th:only-of-type {\n",
              "        vertical-align: middle;\n",
              "    }\n",
              "\n",
              "    .dataframe tbody tr th {\n",
              "        vertical-align: top;\n",
              "    }\n",
              "\n",
              "    .dataframe thead th {\n",
              "        text-align: right;\n",
              "    }\n",
              "</style>\n",
              "<table border=\"1\" class=\"dataframe\">\n",
              "  <thead>\n",
              "    <tr style=\"text-align: right;\">\n",
              "      <th></th>\n",
              "      <th>aluguel</th>\n",
              "      <th>zona</th>\n",
              "      <th>area</th>\n",
              "      <th>quarto</th>\n",
              "    </tr>\n",
              "  </thead>\n",
              "  <tbody>\n",
              "    <tr>\n",
              "      <th>0</th>\n",
              "      <td>2000.0</td>\n",
              "      <td>sul</td>\n",
              "      <td>51.0</td>\n",
              "      <td>2.0</td>\n",
              "    </tr>\n",
              "    <tr>\n",
              "      <th>1</th>\n",
              "      <td>2700.0</td>\n",
              "      <td>sul</td>\n",
              "      <td>72.0</td>\n",
              "      <td>3.0</td>\n",
              "    </tr>\n",
              "    <tr>\n",
              "      <th>2</th>\n",
              "      <td>3200.0</td>\n",
              "      <td>sul</td>\n",
              "      <td>59.0</td>\n",
              "      <td>1.0</td>\n",
              "    </tr>\n",
              "    <tr>\n",
              "      <th>3</th>\n",
              "      <td>1300.0</td>\n",
              "      <td>sul</td>\n",
              "      <td>70.0</td>\n",
              "      <td>2.0</td>\n",
              "    </tr>\n",
              "    <tr>\n",
              "      <th>4</th>\n",
              "      <td>1800.0</td>\n",
              "      <td>sul</td>\n",
              "      <td>90.0</td>\n",
              "      <td>2.0</td>\n",
              "    </tr>\n",
              "  </tbody>\n",
              "</table>\n",
              "</div>"
            ],
            "text/plain": [
              "   aluguel zona  area  quarto\n",
              "0   2000.0  sul  51.0     2.0\n",
              "1   2700.0  sul  72.0     3.0\n",
              "2   3200.0  sul  59.0     1.0\n",
              "3   1300.0  sul  70.0     2.0\n",
              "4   1800.0  sul  90.0     2.0"
            ]
          },
          "metadata": {
            "tags": []
          },
          "execution_count": 48
        }
      ]
    },
    {
      "cell_type": "code",
      "metadata": {
        "id": "k0iZnWtzyWQ4"
      },
      "source": [
        "df_ml.to_csv('dados_tratados_ml.csv', index=False)\n"
      ],
      "execution_count": 64,
      "outputs": []
    },
    {
      "cell_type": "code",
      "metadata": {
        "colab": {
          "base_uri": "https://localhost:8080/",
          "height": 419
        },
        "id": "yqTJuxdTywVX",
        "outputId": "19e96f84-19ab-4446-826e-6e5623a92d75"
      },
      "source": [
        "pd.read_csv('https://raw.githubusercontent.com/Fabriciome/Tarefas-Awari/main/dados_tratados_mercado_livre.csv')"
      ],
      "execution_count": 60,
      "outputs": [
        {
          "output_type": "execute_result",
          "data": {
            "text/html": [
              "<div>\n",
              "<style scoped>\n",
              "    .dataframe tbody tr th:only-of-type {\n",
              "        vertical-align: middle;\n",
              "    }\n",
              "\n",
              "    .dataframe tbody tr th {\n",
              "        vertical-align: top;\n",
              "    }\n",
              "\n",
              "    .dataframe thead th {\n",
              "        text-align: right;\n",
              "    }\n",
              "</style>\n",
              "<table border=\"1\" class=\"dataframe\">\n",
              "  <thead>\n",
              "    <tr style=\"text-align: right;\">\n",
              "      <th></th>\n",
              "      <th>aluguel</th>\n",
              "      <th>zona</th>\n",
              "      <th>area</th>\n",
              "      <th>quarto</th>\n",
              "    </tr>\n",
              "  </thead>\n",
              "  <tbody>\n",
              "    <tr>\n",
              "      <th>0</th>\n",
              "      <td>2000.0</td>\n",
              "      <td>sul</td>\n",
              "      <td>51.0</td>\n",
              "      <td>2.0</td>\n",
              "    </tr>\n",
              "    <tr>\n",
              "      <th>1</th>\n",
              "      <td>2700.0</td>\n",
              "      <td>sul</td>\n",
              "      <td>72.0</td>\n",
              "      <td>3.0</td>\n",
              "    </tr>\n",
              "    <tr>\n",
              "      <th>2</th>\n",
              "      <td>3200.0</td>\n",
              "      <td>sul</td>\n",
              "      <td>59.0</td>\n",
              "      <td>1.0</td>\n",
              "    </tr>\n",
              "    <tr>\n",
              "      <th>3</th>\n",
              "      <td>1300.0</td>\n",
              "      <td>sul</td>\n",
              "      <td>70.0</td>\n",
              "      <td>2.0</td>\n",
              "    </tr>\n",
              "    <tr>\n",
              "      <th>4</th>\n",
              "      <td>1800.0</td>\n",
              "      <td>sul</td>\n",
              "      <td>90.0</td>\n",
              "      <td>2.0</td>\n",
              "    </tr>\n",
              "    <tr>\n",
              "      <th>...</th>\n",
              "      <td>...</td>\n",
              "      <td>...</td>\n",
              "      <td>...</td>\n",
              "      <td>...</td>\n",
              "    </tr>\n",
              "    <tr>\n",
              "      <th>1147</th>\n",
              "      <td>1100.0</td>\n",
              "      <td>oeste</td>\n",
              "      <td>40.0</td>\n",
              "      <td>1.0</td>\n",
              "    </tr>\n",
              "    <tr>\n",
              "      <th>1148</th>\n",
              "      <td>8500.0</td>\n",
              "      <td>oeste</td>\n",
              "      <td>173.0</td>\n",
              "      <td>3.0</td>\n",
              "    </tr>\n",
              "    <tr>\n",
              "      <th>1149</th>\n",
              "      <td>2500.0</td>\n",
              "      <td>oeste</td>\n",
              "      <td>68.0</td>\n",
              "      <td>2.0</td>\n",
              "    </tr>\n",
              "    <tr>\n",
              "      <th>1150</th>\n",
              "      <td>1970.0</td>\n",
              "      <td>oeste</td>\n",
              "      <td>95.0</td>\n",
              "      <td>2.0</td>\n",
              "    </tr>\n",
              "    <tr>\n",
              "      <th>1151</th>\n",
              "      <td>1500.0</td>\n",
              "      <td>oeste</td>\n",
              "      <td>33.0</td>\n",
              "      <td>1.0</td>\n",
              "    </tr>\n",
              "  </tbody>\n",
              "</table>\n",
              "<p>1152 rows × 4 columns</p>\n",
              "</div>"
            ],
            "text/plain": [
              "      aluguel   zona   area  quarto\n",
              "0      2000.0    sul   51.0     2.0\n",
              "1      2700.0    sul   72.0     3.0\n",
              "2      3200.0    sul   59.0     1.0\n",
              "3      1300.0    sul   70.0     2.0\n",
              "4      1800.0    sul   90.0     2.0\n",
              "...       ...    ...    ...     ...\n",
              "1147   1100.0  oeste   40.0     1.0\n",
              "1148   8500.0  oeste  173.0     3.0\n",
              "1149   2500.0  oeste   68.0     2.0\n",
              "1150   1970.0  oeste   95.0     2.0\n",
              "1151   1500.0  oeste   33.0     1.0\n",
              "\n",
              "[1152 rows x 4 columns]"
            ]
          },
          "metadata": {
            "tags": []
          },
          "execution_count": 60
        }
      ]
    }
  ]
}