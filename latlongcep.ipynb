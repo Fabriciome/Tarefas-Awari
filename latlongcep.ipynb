{
  "nbformat": 4,
  "nbformat_minor": 0,
  "metadata": {
    "colab": {
      "name": "latlongcep.ipynb",
      "provenance": [],
      "authorship_tag": "ABX9TyNm2LkGs52UH/xhIrpl6rve",
      "include_colab_link": true
    },
    "kernelspec": {
      "name": "python3",
      "display_name": "Python 3"
    },
    "language_info": {
      "name": "python"
    }
  },
  "cells": [
    {
      "cell_type": "markdown",
      "metadata": {
        "id": "view-in-github",
        "colab_type": "text"
      },
      "source": [
        "<a href=\"https://colab.research.google.com/github/Fabriciome/Tarefas-Awari/blob/main/latlongcep.ipynb\" target=\"_parent\"><img src=\"https://colab.research.google.com/assets/colab-badge.svg\" alt=\"Open In Colab\"/></a>"
      ]
    },
    {
      "cell_type": "markdown",
      "metadata": {
        "id": "P6vUkCvnTBvY"
      },
      "source": [
        "Crie uma função cep_para_endereco que recebe um cep e retorna uma string com o endereço no formato: 'Avenida Paulista 110 São Paulo SP'\n",
        "Use a API do Viacep: https://viacep.com.br "
      ]
    },
    {
      "cell_type": "code",
      "metadata": {
        "id": "NVdfozuGZjsa"
      },
      "source": [
        "import requests"
      ],
      "execution_count": 1,
      "outputs": []
    },
    {
      "cell_type": "code",
      "metadata": {
        "id": "2VwaBnH8mBbn"
      },
      "source": [
        "cep = '38700078'"
      ],
      "execution_count": 2,
      "outputs": []
    },
    {
      "cell_type": "code",
      "metadata": {
        "id": "ohgbLP-RWOUK"
      },
      "source": [
        "def cep_para_endereco(cep):\n",
        "  url_vc = f'https://viacep.com.br/ws/{cep}/json/'\n",
        "  res_vc = requests.get(url_vc).json()\n",
        "  return res_vc['logradouro'] + ' ' + res_vc['uf']"
      ],
      "execution_count": 3,
      "outputs": []
    },
    {
      "cell_type": "code",
      "metadata": {
        "colab": {
          "base_uri": "https://localhost:8080/",
          "height": 35
        },
        "id": "P4a3LQavZodL",
        "outputId": "21b07a09-b96f-461c-d7d9-62dda8128329"
      },
      "source": [
        "cep_para_endereco(cep)"
      ],
      "execution_count": 4,
      "outputs": [
        {
          "output_type": "execute_result",
          "data": {
            "application/vnd.google.colaboratory.intrinsic+json": {
              "type": "string"
            },
            "text/plain": [
              "'Rua Professor José Secundino MG'"
            ]
          },
          "metadata": {
            "tags": []
          },
          "execution_count": 4
        }
      ]
    },
    {
      "cell_type": "markdown",
      "metadata": {
        "id": "fJImy1L9N5VZ"
      },
      "source": [
        "Crie uma função endereco_para_lat_long que recebe um endereco, uma chave de api e retorna um dicionário com a latitude e longitude do endereço no formato: {'lat': \"20° 9' 41.30532'' S\", 'lng': \"50° 43' 40.98864'' W\"}\n",
        "Use a API da Open Cage Data: https://api.opencagedata.com/"
      ]
    },
    {
      "cell_type": "code",
      "metadata": {
        "id": "ZPVXVeBRIsjV"
      },
      "source": [
        "endereco = cep_para_endereco(cep)"
      ],
      "execution_count": 7,
      "outputs": []
    },
    {
      "cell_type": "code",
      "metadata": {
        "id": "c_pntIPPJAn4"
      },
      "source": [
        "chave_oc = 'b42d27affe6f4995929ff2a7423626d7'"
      ],
      "execution_count": 8,
      "outputs": []
    },
    {
      "cell_type": "code",
      "metadata": {
        "id": "2xtwZq_Gu3eP"
      },
      "source": [
        "def endereco_para_lat_long(endereco, chave_de_api):\n",
        "  url_oc = f'https://api.opencagedata.com/geocode/v1/json?q={endereco}&key={chave_oc}'\n",
        "  res_oc = requests.get(url_oc).json()\n",
        "  dict_lat_long = res_oc['results'][0]['annotations']['DMS']\n",
        "  return dict_lat_long"
      ],
      "execution_count": 11,
      "outputs": []
    },
    {
      "cell_type": "code",
      "metadata": {
        "colab": {
          "base_uri": "https://localhost:8080/"
        },
        "id": "CVhri9VzNQHr",
        "outputId": "9c25de80-f050-4cf2-d1ac-edf4bbb5b292"
      },
      "source": [
        "endereco_para_lat_long(endereco, chave_oc)"
      ],
      "execution_count": 12,
      "outputs": [
        {
          "output_type": "execute_result",
          "data": {
            "text/plain": [
              "{'lat': \"18° 34' 57.05868'' S\", 'lng': \"46° 31' 3.86616'' W\"}"
            ]
          },
          "metadata": {
            "tags": []
          },
          "execution_count": 12
        }
      ]
    },
    {
      "cell_type": "markdown",
      "metadata": {
        "id": "9xJu4gjsOqMt"
      },
      "source": [
        "Crie uma função cep_para_lat_long que receba o cep, uma chave de api e retorne a latitude e longitude."
      ]
    },
    {
      "cell_type": "code",
      "metadata": {
        "id": "5jhhYRhaOtjE"
      },
      "source": [
        "def cep_para_lat_long(cep, chave_api):\n",
        "  endereco = cep_para_endereco(cep)\n",
        "  dict_ll = endereco_para_lat_long(endereco, chave_api)\n",
        "  latitude = dict_ll['lat']\n",
        "  longitude = dict_ll['lng']\n",
        "  return latitude,longitude"
      ],
      "execution_count": 16,
      "outputs": []
    },
    {
      "cell_type": "code",
      "metadata": {
        "colab": {
          "base_uri": "https://localhost:8080/"
        },
        "id": "hLAG4PRGRneN",
        "outputId": "e61e4cf6-09ca-4596-9443-ff9848e56149"
      },
      "source": [
        "latitude, longitude = cep_para_lat_long(cep, chave_oc)\n",
        "print('latidude:', latitude, 'longitude:', longitude)"
      ],
      "execution_count": 18,
      "outputs": [
        {
          "output_type": "stream",
          "text": [
            "latidude: 18° 34' 57.05868'' S longitude: 46° 31' 3.86616'' W\n"
          ],
          "name": "stdout"
        }
      ]
    },
    {
      "cell_type": "code",
      "metadata": {
        "id": "46jQgw19Rtwf"
      },
      "source": [
        ""
      ],
      "execution_count": null,
      "outputs": []
    }
  ]
}